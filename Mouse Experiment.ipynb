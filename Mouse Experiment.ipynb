{
 "cells": [
  {
   "cell_type": "markdown",
   "metadata": {},
   "source": [
    "# Mouse Experiment\n",
    "\n",
    "Create an AIXI mode to solve mazes where the maze is not known.  The idea is to sample EV from all enviroments consistent with our history weighted by the universal prior.  \n",
    "\n",
    "**Details and Constraints**\n",
    "* Grid worlds of random unbounded size, something like ~Poisson(10)\n",
    "* I will use LZ as a proxy for kolgomov complexity\n",
    "* The actual mazes will be taken from maze-lab (https://github.com/zuoxingdong/mazelab)\n",
    "* I will assume a random starting location and random end location.\n",
    "\n",
    "I can compare this to DFS and see how efficent it is.\n",
    "I could also make it more complex by adding random teleporters, and hidden switches that open / close walls.  I think random teleporters would cause DFS to fail and we would no longer know our current state.\n",
    "\n",
    "What if I added food and 'traps' or something.\n",
    "\n",
    "Also, the best way to do this would be to run on various tests\n",
    "Complex maze, simple maze, open world, lots of food, something like that.  Show how AIXI solves all these problems and DFS breaks (say with teleportation?)"
   ]
  },
  {
   "cell_type": "code",
   "execution_count": 364,
   "metadata": {
    "scrolled": true
   },
   "outputs": [],
   "source": [
    "import numpy as np\n",
    "from scipy import stats\n",
    "import matplotlib.pyplot as plt\n",
    "import zlib\n",
    "\n",
    "# notes on compression algorithms\n",
    "# LZMA seemed to increase size in blocks of 32 bytes, which wasn't good.\n",
    "\n",
    "FIXED_SIZE = 6\n",
    "DEBUG_LAST_SAMPLE_ITERATIONS = 0\n",
    "\n",
    "class Maze():\n",
    "    \n",
    "    def __init__(self):\n",
    "        self.width = FIXED_SIZE\n",
    "        self.height = FIXED_SIZE\n",
    "        self.field = np.zeros((self.width,self.height))\n",
    "        self.start = (0,0)\n",
    "        self.goal = (0,0)\n",
    "        \n",
    "    def complexity(self):\n",
    "        \"\"\" The complexity of the maze. \"\"\"\n",
    "        return approx_kolmogorov(self.field.tobytes())\n",
    "            \n",
    "    def Generate():\n",
    "        \"\"\" Generate a random map. \"\"\"\n",
    "        maze = Maze()\n",
    "        maze.width = FIXED_SIZE\n",
    "        maze.height = FIXED_SIZE\n",
    "        maze.field = np.random.randint(0,2,(maze.width,maze.height), dtype=np.byte)\n",
    "        maze.start = (np.random.randint(maze.width), np.random.randint(maze.height))\n",
    "        maze.finish = (np.random.randint(maze.width), np.random.randint(maze.height))                \n",
    "        return maze    \n",
    "    \n",
    "    def is_solvable(self):\n",
    "        \"\"\" Returns if maze can be solved or not. \"\"\"\n",
    "        pass\n",
    "    \n",
    "    def display(self):\n",
    "        pass\n",
    "\n",
    "def approx_kolmogorov(X):\n",
    "    \"\"\" Estimate Kolmogorov complexity using LZMA. \"\"\"\n",
    "    # note, this really should be *8 but by doing that 1 byte difference in encoding gives a probability\n",
    "    # ratio of 256 which is too hard to sample.\n",
    "    return len(zlib.compress(X,9))\n",
    "\n",
    "def sample_random_maze():\n",
    "    \"\"\" Sample maze from posterior via rejection sampling. \"\"\"\n",
    "    \n",
    "    global DEBUG_LAST_SAMPLE_ITERATIONS\n",
    "            \n",
    "    # we generate a maze via the uniform distribution, then use rejection\n",
    "    # sampling to get a sample from the true distribution.\n",
    "    \n",
    "    # g is our approximating distribution which is uniform all maze\n",
    "    # states of a given size (and poisson over sizes)\n",
    "    \n",
    "    # assume empty map is the easyest to compress.\n",
    "    M_log = -Maze().complexity() + (FIXED_SIZE*FIXED_SIZE)\n",
    "    \n",
    "    max_ratio = float('-inf')\n",
    "    \n",
    "    for i in range(1000000):\n",
    "        maze = Maze.Generate()\n",
    "        f_log_maze = -maze.complexity()\n",
    "        g_log_maze = -(maze.width*maze.height)\n",
    "        u = np.random.rand()\n",
    "        log_ratio = f_log_maze - (M_log + g_log_maze)\n",
    "        max_ratio = max(max_ratio, log_ratio)\n",
    "        ratio = 2**log_ratio        \n",
    "        if ratio > 1:\n",
    "            print(\"Ratio too high! log_ratio={} f_log_maze={} M_log = {} g_log_maze = {} \".format(log_ratio, f_log_maze, M_log, g_log_maze))\n",
    "        if u < ratio:\n",
    "            DEBUG_LAST_SAMPLE_ITERATIONS = i\n",
    "            return maze\n",
    "        \n",
    "    DEBUG_LAST_SAMPLE_ITERATIONS = float('nan')\n",
    "        \n",
    "    raise Exception(\"Rejection sampling failed, best was log_ratio={}.\".format(max_ratio))"
   ]
  },
  {
   "cell_type": "code",
   "execution_count": 349,
   "metadata": {},
   "outputs": [
    {
     "name": "stdout",
     "output_type": "stream",
     "text": [
      "14\n",
      "30.4515 38 26\n",
      "33.5485 26 38\n"
     ]
    },
    {
     "data": {
      "image/png": "[encoded data removed]",
      "text/plain": [
       "<Figure size 432x288 with 1 Axes>"
      ]
     },
     "metadata": {
      "needs_background": "light"
     },
     "output_type": "display_data"
    }
   ],
   "source": [
    "print(Maze().complexity())\n",
    "\n",
    "# check distribution of complexities, make sure compression algorithm isn't working in blocks of bytes.\n",
    "\n",
    "results = []\n",
    "bits_results = []\n",
    "for i in range(10000):\n",
    "    maze = Maze.Generate()\n",
    "    bits = maze.complexity()\n",
    "    f_log_maze = -bits\n",
    "    g_log_maze = -(maze.width*maze.height)\n",
    "    results.append(f_log_maze - g_log_maze)\n",
    "    bits_results.append(bits)\n",
    "print(np.mean(results), np.max(results), np.min(results))\n",
    "print(np.mean(bits_results), np.min(bits_results), np.max(bits_results))\n",
    "\n",
    "plt.hist(bits_results, bins=50)\n",
    "plt.show()\n",
    "    "
   ]
  },
  {
   "cell_type": "code",
   "execution_count": 365,
   "metadata": {},
   "outputs": [
    {
     "name": "stdout",
     "output_type": "stream",
     "text": [
      "1901.667\n"
     ]
    }
   ],
   "source": [
    "# make sure sampling works\n",
    "# idea to to make sure ratio isn't too high, and that we always achieve a sample\n",
    "sample_it = []\n",
    "for i in range(1000):    \n",
    "    sample_random_maze()\n",
    "    sample_it.append(DEBUG_LAST_SAMPLE_ITERATIONS)\n",
    "print(np.mean(sample_it))"
   ]
  },
  {
   "cell_type": "code",
   "execution_count": 366,
   "metadata": {},
   "outputs": [
    {
     "data": {
      "image/png": "[encoded data removed]",
      "text/plain": [
       "<Figure size 432x288 with 1 Axes>"
      ]
     },
     "metadata": {
      "needs_background": "light"
     },
     "output_type": "display_data"
    },
    {
     "data": {
      "image/png": "[encoded data removed]",
      "text/plain": [
       "<Figure size 432x288 with 1 Axes>"
      ]
     },
     "metadata": {
      "needs_background": "light"
     },
     "output_type": "display_data"
    },
    {
     "data": {
      "image/png": "[encoded data removed]",
      "text/plain": [
       "<Figure size 432x288 with 1 Axes>"
      ]
     },
     "metadata": {
      "needs_background": "light"
     },
     "output_type": "display_data"
    }
   ],
   "source": [
    "def display_maze(self):\n",
    "    plt.imshow(self.field)\n",
    "    plt.show()\n",
    "    \n",
    "# show some examples\n",
    "for i in range(3):\n",
    "    display_maze(sample_random_maze())\n",
    "    "
   ]
  },
  {
   "cell_type": "code",
   "execution_count": 430,
   "metadata": {},
   "outputs": [
    {
     "name": "stdout",
     "output_type": "stream",
     "text": [
      "0.0 4.25323486328125 2.4554125467936196\n"
     ]
    },
    {
     "data": {
      "image/png": "[encoded data removed]",
      "text/plain": [
       "<Figure size 432x288 with 1 Axes>"
      ]
     },
     "metadata": {
      "needs_background": "light"
     },
     "output_type": "display_data"
    }
   ],
   "source": [
    "# try to solve a specific maze\n",
    "\n",
    "# The idea here is to try to find maps that are consistent with our observations and history.  \n",
    "# If we center the starting location we will effectively be mapping the enviroment\n",
    "\n",
    "# how is this better than simply mapping enviroment?  What enviroments can I deal with that would be hard to solve otherwise?\n",
    "# maybe I need a better hiden state game... something more akin to starcraft.\n",
    "\n",
    "\n",
    "# main problem here is I'm assuming a grid world, if this is the case it's easy to solve using other methods... :(\n",
    "# some kind of game that has hidden state (poker) would be better... but even then you know the dynamics.  I need\n",
    "# a game where the dynamics are unknown...  Maybe poker could work, if I just don't tell it it's playing poker...\n",
    "\n",
    "# need to do\n",
    "# some function to take an observation\n",
    "# some function to sample worlds and plot\n",
    "\n",
    "# idea? Use image compression? or some kind of block compression?\n",
    "\n",
    "accumulator = Maze().field\n",
    "reference_level = Maze().complexity()\n",
    "\n",
    "for i in range(500000):\n",
    "    maze = Maze.Generate()\n",
    "    if maze.field[2,1] != 1:\n",
    "        continue\n",
    "    if maze.field[2,2] != 1:\n",
    "        continue\n",
    "    if maze.field[3,1] != 1:\n",
    "        continue\n",
    "    if maze.field[4,1] != 1:\n",
    "        continue\n",
    "    if maze.field[4,2] != 1:\n",
    "        continue\n",
    "    if maze.field[3,2] != 0:\n",
    "        continue\n",
    "    accumulator += maze.field * 2**-(maze.complexity() - reference_level)\n",
    "    \n",
    "print(np.min(accumulator), np.max(accumulator), np.mean(accumulator))\n",
    "    \n",
    "plt.imshow(accumulator)\n",
    "plt.show()\n",
    "    "
   ]
  }
 ],
 "metadata": {
  "kernelspec": {
   "display_name": "Python 3",
   "language": "python",
   "name": "python3"
  },
  "language_info": {
   "codemirror_mode": {
    "name": "ipython",
    "version": 3
   },
   "file_extension": ".py",
   "mimetype": "text/x-python",
   "name": "python",
   "nbconvert_exporter": "python",
   "pygments_lexer": "ipython3",
   "version": "3.7.0"
  }
 },
 "nbformat": 4,
 "nbformat_minor": 2
}
