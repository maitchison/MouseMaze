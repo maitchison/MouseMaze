{
 "cells": [
  {
   "cell_type": "markdown",
   "metadata": {},
   "source": [
    "# Pytorch implemenation of an MNIST digit recongizer\n",
    "\n",
    "* Goal is to train a hand written digit recongizer.\n",
    "* Will also experiment with a few different kind of activiation functions.\n",
    "\n",
    "https://github.com/pytorch/examples/tree/master/mnist\n",
    "    "
   ]
  },
  {
   "cell_type": "markdown",
   "metadata": {},
   "source": [
    "# 1. Basic MNIST test"
   ]
  },
  {
   "cell_type": "code",
   "execution_count": 1,
   "metadata": {},
   "outputs": [],
   "source": [
    "import torch\n",
    "import torch.nn as nn\n",
    "import torch.optim as optim\n",
    "import torch.nn.functional as F\n",
    "from torchvision import datasets, transforms\n",
    "\n",
    "import numpy as np\n",
    "import matplotlib.pyplot as plt"
   ]
  },
  {
   "cell_type": "code",
   "execution_count": 2,
   "metadata": {},
   "outputs": [],
   "source": [
    "# parameters\n",
    "USE_CUDA = False\n",
    "BATCH_SIZE = 64"
   ]
  },
  {
   "cell_type": "code",
   "execution_count": 3,
   "metadata": {},
   "outputs": [],
   "source": [
    "# our LeNet like model\n",
    "class Net(nn.Module):\n",
    "    \n",
    "    def __init__(self):\n",
    "        super().__init__()\n",
    "        self.conv1 = nn.Conv2d(1,32,3)\n",
    "        self.conv2 = nn.Conv2d(32,64,3)\n",
    "        self.conv3 = nn.Conv2d(64,128,3)\n",
    "        self.conv1x1 = nn.Conv2d(128,10,1)\n",
    "    \n",
    "    def forward(self, x):\n",
    "        \"\"\" Run input through network. \"\"\"\n",
    "        \n",
    "        # layer 1        \n",
    "        x = F.relu(self.conv1(x))\n",
    "        x = F.max_pool2d(x,2,2)\n",
    "        \n",
    "        # layer 2\n",
    "        x = F.relu(self.conv2(x))\n",
    "        x = F.max_pool2d(x,2,2)\n",
    "        \n",
    "        # layer 3\n",
    "        x = F.relu(self.conv3(x))\n",
    "        x = F.max_pool2d(x,2,2)\n",
    "        \n",
    "        # this is a pseudo final layer with 1x1 convs and and average pool\n",
    "        x = self.conv1x1(x)\n",
    "        batch_size, label_count, final_width, final_height =  x.size()\n",
    "        # why doesn't this work??\n",
    "        #x = F.avg_pool2d((final_width, final_height))\n",
    "        \n",
    "        # map from [N,L,1,1] to [N,L]\n",
    "        x = x.view(batch_size, label_count)\n",
    "        \n",
    "        return F.log_softmax(x, dim=1)      \n",
    "\n",
    "# the training loop\n",
    "def train(model, device, train_loader, optimizer, epoch, verbose=True):\n",
    "    model.train()\n",
    "    for i, (data, target) in enumerate(train_loader):\n",
    "        data, target = data.to(device), target.to(device)\n",
    "        optimizer.zero_grad()\n",
    "        output = model(data)\n",
    "        loss = F.nll_loss(output, target)\n",
    "        loss.backward()\n",
    "        optimizer.step()\n",
    "        if verbose and i % 250 == 0:\n",
    "            print(\"Train Epoch: {} [{:.0f}%]\\tLoss: {:.6f}\".format(\n",
    "                epoch, 100 * i / len(train_loader), loss.item()))\n",
    "            \n",
    "def test(model, device, test_loader, dataset_name=\"Test\", max_samples=None, verbose=True):\n",
    "    \n",
    "    model.eval()\n",
    "    test_loss = 0\n",
    "    correct = 0        \n",
    "    samples = 0    \n",
    "    \n",
    "    with torch.no_grad():\n",
    "        for data, target in test_loader:\n",
    "            data, target = data.to(device), target.to(device)\n",
    "            output = model(data)\n",
    "            test_loss += F.nll_loss(output, target, reduction='sum').item() # sum up batch loss\n",
    "            pred = output.max(1, keepdim=True)[1] # get the index of the max log-probability\n",
    "            correct += pred.eq(target.view_as(pred)).sum().item()\n",
    "            samples += len(data)\n",
    "            if max_samples is not None and samples > max_samples:\n",
    "                break\n",
    "\n",
    "    test_loss /= samples\n",
    "\n",
    "    if verbose:\n",
    "        print('{} set:\\t Average loss: {:.4f},\\t Accuracy: {:.1f}%'.format(\n",
    "            dataset_name, test_loss, 100 * correct / samples))\n",
    "    \n",
    "    return correct / samples"
   ]
  },
  {
   "cell_type": "code",
   "execution_count": 4,
   "metadata": {},
   "outputs": [
    {
     "name": "stdout",
     "output_type": "stream",
     "text": [
      "Found 60000 trianing examples and 10000 test examples.\n"
     ]
    }
   ],
   "source": [
    "# transform PIL images into normalized tensors.\n",
    "transform = transforms.Compose([\n",
    "    transforms.ToTensor(),\n",
    "    transforms.Normalize((0.1307,), (0.3081,))\n",
    "])\n",
    "\n",
    "# get the MNIST dataset\n",
    "MNIST_train = datasets.MNIST(\"../data\", train=True, download=True, transform=transform,)\n",
    "MNIST_test = datasets.MNIST(\"../data\", train=False, download=True, transform=transform,)\n",
    "print(\"Found {} trianing examples and {} test examples.\".format(len(MNIST_train), len(MNIST_test)))"
   ]
  },
  {
   "cell_type": "code",
   "execution_count": 5,
   "metadata": {},
   "outputs": [
    {
     "name": "stdout",
     "output_type": "stream",
     "text": [
      "Train Epoch: 1 [0%]\tLoss: 2.315996\n",
      "Train Epoch: 1 [27%]\tLoss: 0.190336\n",
      "Train Epoch: 1 [53%]\tLoss: 0.056455\n",
      "Train Epoch: 1 [80%]\tLoss: 0.013190\n",
      "Train set:\t Average loss: 0.0829,\t Accuracy: 97.3%\n",
      "Test set:\t Average loss: 0.0727,\t Accuracy: 97.9%\n",
      "Train Epoch: 2 [0%]\tLoss: 0.094116\n",
      "Train Epoch: 2 [27%]\tLoss: 0.009164\n",
      "Train Epoch: 2 [53%]\tLoss: 0.063591\n",
      "Train Epoch: 2 [80%]\tLoss: 0.028039\n",
      "Train set:\t Average loss: 0.0377,\t Accuracy: 98.7%\n",
      "Test set:\t Average loss: 0.0702,\t Accuracy: 97.9%\n",
      "Train Epoch: 3 [0%]\tLoss: 0.074111\n",
      "Train Epoch: 3 [27%]\tLoss: 0.059494\n",
      "Train Epoch: 3 [53%]\tLoss: 0.020546\n",
      "Train Epoch: 3 [80%]\tLoss: 0.036695\n",
      "Train set:\t Average loss: 0.0398,\t Accuracy: 98.9%\n",
      "Test set:\t Average loss: 0.0477,\t Accuracy: 98.7%\n",
      "Train Epoch: 4 [0%]\tLoss: 0.041088\n",
      "Train Epoch: 4 [27%]\tLoss: 0.020172\n",
      "Train Epoch: 4 [53%]\tLoss: 0.007511\n",
      "Train Epoch: 4 [80%]\tLoss: 0.076875\n",
      "Train set:\t Average loss: 0.0360,\t Accuracy: 98.8%\n",
      "Test set:\t Average loss: 0.0370,\t Accuracy: 98.7%\n",
      "Train Epoch: 5 [0%]\tLoss: 0.014411\n",
      "Train Epoch: 5 [27%]\tLoss: 0.015062\n",
      "Train Epoch: 5 [53%]\tLoss: 0.028755\n",
      "Train Epoch: 5 [80%]\tLoss: 0.012402\n",
      "Train set:\t Average loss: 0.0164,\t Accuracy: 99.5%\n",
      "Test set:\t Average loss: 0.0289,\t Accuracy: 98.9%\n",
      "Train Epoch: 6 [0%]\tLoss: 0.011154\n",
      "Train Epoch: 6 [27%]\tLoss: 0.006609\n",
      "Train Epoch: 6 [53%]\tLoss: 0.004165\n",
      "Train Epoch: 6 [80%]\tLoss: 0.005967\n",
      "Train set:\t Average loss: 0.0136,\t Accuracy: 99.6%\n",
      "Test set:\t Average loss: 0.0303,\t Accuracy: 99.1%\n",
      "Train Epoch: 7 [0%]\tLoss: 0.008143\n",
      "Train Epoch: 7 [27%]\tLoss: 0.000980\n",
      "Train Epoch: 7 [53%]\tLoss: 0.096360\n",
      "Train Epoch: 7 [80%]\tLoss: 0.001303\n",
      "Train set:\t Average loss: 0.0096,\t Accuracy: 99.7%\n",
      "Test set:\t Average loss: 0.0450,\t Accuracy: 98.8%\n",
      "Train Epoch: 8 [0%]\tLoss: 0.051453\n",
      "Train Epoch: 8 [27%]\tLoss: 0.000789\n",
      "Train Epoch: 8 [53%]\tLoss: 0.052001\n",
      "Train Epoch: 8 [80%]\tLoss: 0.043375\n",
      "Train set:\t Average loss: 0.0072,\t Accuracy: 99.8%\n",
      "Test set:\t Average loss: 0.0329,\t Accuracy: 99.0%\n",
      "Train Epoch: 9 [0%]\tLoss: 0.007823\n",
      "Train Epoch: 9 [27%]\tLoss: 0.012357\n",
      "Train Epoch: 9 [53%]\tLoss: 0.001434\n",
      "Train Epoch: 9 [80%]\tLoss: 0.005394\n",
      "Train set:\t Average loss: 0.0098,\t Accuracy: 99.6%\n",
      "Test set:\t Average loss: 0.0749,\t Accuracy: 98.5%\n",
      "Train Epoch: 10 [0%]\tLoss: 0.033013\n",
      "Train Epoch: 10 [27%]\tLoss: 0.005812\n",
      "Train Epoch: 10 [53%]\tLoss: 0.001036\n",
      "Train Epoch: 10 [80%]\tLoss: 0.007920\n",
      "Train set:\t Average loss: 0.0127,\t Accuracy: 99.3%\n",
      "Test set:\t Average loss: 0.0423,\t Accuracy: 99.3%\n"
     ]
    }
   ],
   "source": [
    "# setup for training\n",
    "\n",
    "# pytorch doesn't seem to use more than 1 core on this problem, maybe the batch size isn't large enough,\n",
    "# or perhaps it needs to be compiled from source to link in the MKL libraries\n",
    "torch.set_num_threads(4)\n",
    "\n",
    "device = torch.device(\"cuda\" if USE_CUDA else \"cpu\")\n",
    "\n",
    "kwargs = {'num_workers': 1, 'pin_memory': True} if USE_CUDA else {}\n",
    "\n",
    "model = Net().to(device)\n",
    "\n",
    "train_loader = torch.utils.data.DataLoader(\n",
    "    MNIST_train, \n",
    "    batch_size=BATCH_SIZE, \n",
    "    shuffle=True,    \n",
    "    **kwargs)\n",
    "test_loader = torch.utils.data.DataLoader(\n",
    "    MNIST_test, \n",
    "    batch_size=BATCH_SIZE,\n",
    "    shuffle=True,     \n",
    "    **kwargs)\n",
    "\n",
    "optimizer = optim.Adam(model.parameters(), lr=0.001)\n",
    "\n",
    "for epoch in range(1,10+1):\n",
    "    train(model, device, train_loader, optimizer, epoch)\n",
    "    test(model, device, train_loader,\"Train\", max_samples = 1000)\n",
    "    test(model, device, test_loader,\"Test\", max_samples = 1000)     "
   ]
  },
  {
   "cell_type": "code",
   "execution_count": 6,
   "metadata": {},
   "outputs": [
    {
     "name": "stdout",
     "output_type": "stream",
     "text": [
      "Final test:\n",
      "Train set:\t Average loss: 0.0112,\t Accuracy: 99.7%\n",
      "Test set:\t Average loss: 0.0556,\t Accuracy: 98.7%\n"
     ]
    },
    {
     "data": {
      "text/plain": [
       "0.9873"
      ]
     },
     "execution_count": 6,
     "metadata": {},
     "output_type": "execute_result"
    }
   ],
   "source": [
    "print(\"Final test:\")\n",
    "test(model, device, train_loader,\"Train\", max_samples = 10000)\n",
    "test(model, device, test_loader,\"Test\")     "
   ]
  },
  {
   "cell_type": "markdown",
   "metadata": {},
   "source": [
    "# 2. Experimentation on different activation functions\n"
   ]
  },
  {
   "cell_type": "code",
   "execution_count": 7,
   "metadata": {},
   "outputs": [],
   "source": [
    "# our LeNet like model\n",
    "class Net_Custom(nn.Module):\n",
    "    \n",
    "    def __init__(self, activation):\n",
    "        super().__init__()\n",
    "        self.conv1 = nn.Conv2d(1,32,3)\n",
    "        self.conv2 = nn.Conv2d(32,64,3)\n",
    "        self.conv3 = nn.Conv2d(64,128,3)\n",
    "        self.conv1x1 = nn.Conv2d(128,10,1)\n",
    "        self.activation = activation\n",
    "        \n",
    "    def forward(self, x):\n",
    "        \"\"\" Run input through network. \"\"\"\n",
    "        \n",
    "        # layer 1        \n",
    "        x = self.activation(self.conv1(x))\n",
    "        x = F.max_pool2d(x,2,2)\n",
    "        \n",
    "        # layer 2\n",
    "        x = self.activation(self.conv2(x))\n",
    "        x = F.max_pool2d(x,2,2)\n",
    "        \n",
    "        # layer 3\n",
    "        x = self.activation(self.conv3(x))\n",
    "        x = F.max_pool2d(x,2,2)\n",
    "        \n",
    "        # this is a pseudo final layer with 1x1 convs and and average pool\n",
    "        x = self.conv1x1(x)\n",
    "        batch_size, label_count, final_width, final_height =  x.size()\n",
    "        \n",
    "        # map from [N,L,1,1] to [N,L]\n",
    "        x = x.view(batch_size, label_count)\n",
    "        \n",
    "        return F.log_softmax(x, dim=1)      \n",
    "\n",
    "\n",
    "def run_experiment(name, activation_function, epochs = 10):  \n",
    "        \n",
    "    if name in results:\n",
    "        print(\"Experiment {} skipped as already done.\".format(name))\n",
    "        return\n",
    "        \n",
    "    print(\"Running experiment {}\".format(name))\n",
    "            \n",
    "    model = Net_Custom(activation_function).to(device)\n",
    "\n",
    "    optimizer = optim.Adam(model.parameters(), lr=0.001)\n",
    "    scores = []\n",
    "\n",
    "    for epoch in range(1,epochs+1):\n",
    "        train(model, device, train_loader, optimizer, epoch, verbose=False)        \n",
    "        scores.append((epoch,test(model, device, test_loader, \"Test\", verbose=False)))\n",
    "            \n",
    "    results[name] = scores\n",
    "    models[name] = model"
   ]
  },
  {
   "cell_type": "code",
   "execution_count": 8,
   "metadata": {},
   "outputs": [],
   "source": [
    "# reset results\n",
    "results = {}\n",
    "models = {}"
   ]
  },
  {
   "cell_type": "code",
   "execution_count": 9,
   "metadata": {},
   "outputs": [
    {
     "name": "stdout",
     "output_type": "stream",
     "text": [
      "Running experiment ReLu\n",
      "Running experiment Sigmoid\n",
      "Running experiment Tanh\n",
      "Running experiment Leaky ReLu\n",
      "Running experiment Abs\n"
     ]
    }
   ],
   "source": [
    "run_experiment(\"ReLu\", F.relu)\n",
    "run_experiment(\"Sigmoid\", torch.sigmoid)\n",
    "run_experiment(\"Tanh\", torch.tanh)\n",
    "run_experiment(\"Leaky ReLu\", F.leaky_relu)\n",
    "run_experiment(\"Abs\", lambda x: F.relu(1 - torch.abs(1-x)))"
   ]
  },
  {
   "cell_type": "code",
   "execution_count": 10,
   "metadata": {},
   "outputs": [
    {
     "data": {
      "image/png": "[encoded data removed]",
      "text/plain": [
       "<Figure size 432x288 with 1 Axes>"
      ]
     },
     "metadata": {
      "needs_background": "light"
     },
     "output_type": "display_data"
    }
   ],
   "source": [
    "# plot the results\n",
    "for function_name,scores in results.items():\n",
    "    x = [x for (x,y) in scores]\n",
    "    y = [100*(1-y) for (x,y) in scores]\n",
    "    plt.plot(x,y,label=function_name)\n",
    "    \n",
    "plt.legend()\n",
    "plt.xlabel(\"Epoch\")\n",
    "plt.ylabel(\"Error (%)\")\n",
    "    \n",
    "plt.show()"
   ]
  },
  {
   "cell_type": "markdown",
   "metadata": {},
   "source": [
    "\n",
    "| Activation | Error   |\n",
    "| -----------| --------|\n",
    "| ReLu       | ?       |\n",
    "| Sigmoid    | ?       |\n",
    "| TanH       | ?       |\n",
    "| ...        | ?       |\n"
   ]
  },
  {
   "cell_type": "code",
   "execution_count": 48,
   "metadata": {},
   "outputs": [
    {
     "data": {
      "image/png": "[encoded data removed]",
      "text/plain": [
       "<Figure size 432x288 with 1 Axes>"
      ]
     },
     "metadata": {
      "needs_background": "light"
     },
     "output_type": "display_data"
    }
   ],
   "source": [
    "# check how model handles random input.\n",
    "def pred(model, data):\n",
    "\n",
    "    data = data.to(device)\n",
    "\n",
    "    model.eval()\n",
    "    \n",
    "    with torch.no_grad():\n",
    "        pred = model(data)                \n",
    "\n",
    "    return pred[0]\n",
    "\n",
    "def check_robust(model, name):\n",
    "    \n",
    "    samples = 1000\n",
    "    \n",
    "    scores = []\n",
    "    \n",
    "    xs = np.arange(0,10,0.1)\n",
    "    \n",
    "    # gausian noise\n",
    "    for x in xs:\n",
    "        av_max_score = 0\n",
    "        for i in range(samples):\n",
    "            data = torch.tensor(np.random.rand(1,1,28,28), dtype=torch.float32)\n",
    "            data *= x\n",
    "            max_score = max(pred(model, data))\n",
    "            av_max_score += max_score / samples\n",
    "        scores.append(av_max_score)\n",
    "        \n",
    "    scores = np.array(scores)\n",
    "    \n",
    "    plt.plot(xs, scores,label=name)\n",
    "    \n",
    "\n",
    "plt.show()\n",
    "    \n",
    "for name, model in models.items():\n",
    "    check_robust(model, name)         \n",
    "    \n",
    "plt.legend()\n",
    "plt.show()"
   ]
  },
  {
   "cell_type": "code",
   "execution_count": 19,
   "metadata": {},
   "outputs": [
    {
     "name": "stdout",
     "output_type": "stream",
     "text": [
      "Saving ReLu\n",
      "Saving Sigmoid\n",
      "Saving Tanh\n",
      "Saving Leaky ReLu\n",
      "Saving Abs\n"
     ]
    }
   ],
   "source": [
    "pickle.dump(results, open(\"results.p\", \"wb\" ))\n",
    "for name, model in models.items():\n",
    "    print(\"Saving {}\".format(name))\n",
    "    torch.save(model.state_dict(), name+\".sav\")"
   ]
  },
  {
   "cell_type": "code",
   "execution_count": 16,
   "metadata": {},
   "outputs": [
    {
     "data": {
      "text/plain": [
       "{'ReLu': Net_Custom(\n",
       "   (conv1): Conv2d(1, 32, kernel_size=(3, 3), stride=(1, 1))\n",
       "   (conv2): Conv2d(32, 64, kernel_size=(3, 3), stride=(1, 1))\n",
       "   (conv3): Conv2d(64, 128, kernel_size=(3, 3), stride=(1, 1))\n",
       "   (conv1x1): Conv2d(128, 10, kernel_size=(1, 1), stride=(1, 1))\n",
       " ), 'Sigmoid': Net_Custom(\n",
       "   (conv1): Conv2d(1, 32, kernel_size=(3, 3), stride=(1, 1))\n",
       "   (conv2): Conv2d(32, 64, kernel_size=(3, 3), stride=(1, 1))\n",
       "   (conv3): Conv2d(64, 128, kernel_size=(3, 3), stride=(1, 1))\n",
       "   (conv1x1): Conv2d(128, 10, kernel_size=(1, 1), stride=(1, 1))\n",
       " ), 'Tanh': Net_Custom(\n",
       "   (conv1): Conv2d(1, 32, kernel_size=(3, 3), stride=(1, 1))\n",
       "   (conv2): Conv2d(32, 64, kernel_size=(3, 3), stride=(1, 1))\n",
       "   (conv3): Conv2d(64, 128, kernel_size=(3, 3), stride=(1, 1))\n",
       "   (conv1x1): Conv2d(128, 10, kernel_size=(1, 1), stride=(1, 1))\n",
       " ), 'Leaky ReLu': Net_Custom(\n",
       "   (conv1): Conv2d(1, 32, kernel_size=(3, 3), stride=(1, 1))\n",
       "   (conv2): Conv2d(32, 64, kernel_size=(3, 3), stride=(1, 1))\n",
       "   (conv3): Conv2d(64, 128, kernel_size=(3, 3), stride=(1, 1))\n",
       "   (conv1x1): Conv2d(128, 10, kernel_size=(1, 1), stride=(1, 1))\n",
       " ), 'Abs': Net_Custom(\n",
       "   (conv1): Conv2d(1, 32, kernel_size=(3, 3), stride=(1, 1))\n",
       "   (conv2): Conv2d(32, 64, kernel_size=(3, 3), stride=(1, 1))\n",
       "   (conv3): Conv2d(64, 128, kernel_size=(3, 3), stride=(1, 1))\n",
       "   (conv1x1): Conv2d(128, 10, kernel_size=(1, 1), stride=(1, 1))\n",
       " )}"
      ]
     },
     "execution_count": 16,
     "metadata": {},
     "output_type": "execute_result"
    }
   ],
   "source": [
    "models"
   ]
  }
 ],
 "metadata": {
  "kernelspec": {
   "display_name": "Python 3",
   "language": "python",
   "name": "python3"
  },
  "language_info": {
   "codemirror_mode": {
    "name": "ipython",
    "version": 3
   },
   "file_extension": ".py",
   "mimetype": "text/x-python",
   "name": "python",
   "nbconvert_exporter": "python",
   "pygments_lexer": "ipython3",
   "version": "3.7.1"
  }
 },
 "nbformat": 4,
 "nbformat_minor": 2
}
