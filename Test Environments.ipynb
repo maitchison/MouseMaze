{
 "cells": [
  {
   "cell_type": "markdown",
   "metadata": {},
   "source": [
    "# Test notebook for some standard environments.\n",
    "\n",
    "\n",
    "This notebook contains demonstrations of \n",
    "\n",
    "(2011 Nguyen)\n",
    "https://ewrl.files.wordpress.com/2011/08/ewrl2011_submission_110.pdf\n",
    "\n",
    "* 4x4 Maze\n",
    "\n",
    "(2012 Daswani)\n",
    "http://proceedings.mlr.press/v24/daswani12a/daswani12a.pdf\n",
    "\n",
    "* [todo] Deterministic TMaze \n",
    "\n",
    "* [todo] Stochastic TMaze\n",
    "\n",
    "* [todo] Tiger"
   ]
  },
  {
   "cell_type": "code",
   "execution_count": 36,
   "metadata": {},
   "outputs": [
    {
     "name": "stdout",
     "output_type": "stream",
     "text": [
      "The autoreload extension is already loaded. To reload it, use:\n",
      "  %reload_ext autoreload\n"
     ]
    }
   ],
   "source": [
    "%load_ext autoreload\n",
    "%autoreload 2\n",
    "\n",
    "import numpy as np\n",
    "import matplotlib.pyplot as plt\n",
    "\n",
    "from env.environments import Grid4x4\n",
    "from agents.agent import RandomAgent\n",
    "from agents.sarsa import Sarsa"
   ]
  },
  {
   "cell_type": "code",
   "execution_count": 39,
   "metadata": {
    "scrolled": false
   },
   "outputs": [],
   "source": [
    "def show_moves(agent, env):\n",
    "    \"\"\" Shows some examples moves between agent and enviroment. \"\"\"\n",
    "    \n",
    "    print(\"Playing game with agent {} in environment {}\".format(agent, env)) \n",
    "    obs, reward = env.reset(), 0    \n",
    "    for i in range(10):\n",
    "        action = agent.act(obs,reward)\n",
    "        print(\"Saw observation {} with reward {} and played action {}\".format(obs, reward, action))\n",
    "        obs, reward, done, info = env.step(action)\n",
    "        env.render()\n",
    "        if done:\n",
    "            break        \n",
    "            \n",
    "def evaluate_agent(agent, env, max_steps = 1000):\n",
    "    \"\"\" Evaluates the agents performance on the environment. \"\"\"\n",
    "        \n",
    "    obs, reward = env.reset(), 0    \n",
    "    total_reward = 0\n",
    "    reward_history = []\n",
    "    \n",
    "    for i in range(max_steps):\n",
    "        action = agent.act(obs,reward)\n",
    "        obs, reward, done, info = env.step(action)\n",
    "        total_reward += reward\n",
    "        reward_history.append(total_reward)\n",
    "        if done:\n",
    "            break \n",
    "        \n",
    "    return reward_history\n",
    "        \n",
    "def plot_reward_history(agent, env):\n",
    "    \n",
    "    steps = 1000\n",
    "    trials = 100\n",
    "    \n",
    "    total_reward = np.zeros(steps)\n",
    "\n",
    "    for i in range(trials):\n",
    "        total_reward += np.array(np.array(evaluate_agent(agent, env, steps))) / trials\n",
    "\n",
    "    plt.plot(range(steps), total_reward, label=agent)        \n",
    "    plt.xlabel(\"Step\")\n",
    "    plt.ylabel(\"Average Reward\")    \n",
    "    plt.legend()\n",
    "    plt.show()"
   ]
  },
  {
   "cell_type": "markdown",
   "metadata": {},
   "source": [
    "# 1. Grid 4x4\n",
    "\n",
    "The domain is a 4×4 grid world. At each time step, the agent can move one cell left, right, up and down within the grid world. The observations are uninformative. When the agent enters the bottom-right corner of the grid; it gets a reward of 1, and is automatically and randomly sent back to one of the remaining 15 cells. Entering any cell other than the bottom-right one gives the agent a zero reward. To achieve the maximal total reward, the agent must be able to remember a series of smart actions without any clue about its relative position in the grid.         "
   ]
  },
  {
   "cell_type": "code",
   "execution_count": 40,
   "metadata": {},
   "outputs": [
    {
     "data": {
      "image/png": "[encoded data removed]",
      "text/plain": [
       "<Figure size 432x288 with 1 Axes>"
      ]
     },
     "metadata": {
      "needs_background": "light"
     },
     "output_type": "display_data"
    }
   ],
   "source": [
    "env = Grid4x4()\n",
    "agent = RandomAgent(env.action_space)\n",
    "plot_reward_history(agent,env)"
   ]
  },
  {
   "cell_type": "markdown",
   "metadata": {},
   "source": [
    "This task requires memory.  Interestingly an algorithm like SARSA will not work as the assume a Markovian state, which is not true in this case.  We must remember our past actions in order to find the optimal policy, which is simply an alternating pattern of 'down' and 'left'.\n",
    "\n",
    "A stochastic policy that learns the value of the actions 'down' and 'left' will also perform well, but not as optimally as the repeating pattern."
   ]
  }
 ],
 "metadata": {
  "kernelspec": {
   "display_name": "Python 3",
   "language": "python",
   "name": "python3"
  },
  "language_info": {
   "codemirror_mode": {
    "name": "ipython",
    "version": 3
   },
   "file_extension": ".py",
   "mimetype": "text/x-python",
   "name": "python",
   "nbconvert_exporter": "python",
   "pygments_lexer": "ipython3",
   "version": "3.7.1"
  }
 },
 "nbformat": 4,
 "nbformat_minor": 2
}
