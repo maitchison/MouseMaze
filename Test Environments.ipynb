{
 "cells": [
  {
   "cell_type": "markdown",
   "metadata": {},
   "source": [
    "# Test notebook for some standard environments.\n",
    "\n",
    "\n",
    "This notebook contains demonstrations of \n",
    "\n",
    "(2011 Nguyen)\n",
    "\n",
    "* 4x4 Maze\n",
    "\n",
    "(2012 Daswani)\n",
    "\n",
    "* Deterministic TMaze\n",
    "\n",
    "* Stochastic TMaze\n",
    "\n",
    "* Tiger"
   ]
  },
  {
   "cell_type": "code",
   "execution_count": 36,
   "metadata": {},
   "outputs": [
    {
     "name": "stdout",
     "output_type": "stream",
     "text": [
      "The autoreload extension is already loaded. To reload it, use:\n",
      "  %reload_ext autoreload\n"
     ]
    }
   ],
   "source": [
    "%load_ext autoreload\n",
    "%autoreload 2\n",
    "\n",
    "import numpy as np\n",
    "import matplotlib.pyplot as plt\n",
    "\n",
    "from env.environments import Grid4x4\n",
    "from agents.agent import RandomAgent\n",
    "from agents.sarsa import Sarsa"
   ]
  },
  {
   "cell_type": "code",
   "execution_count": 38,
   "metadata": {
    "scrolled": false
   },
   "outputs": [
    {
     "data": {
      "image/png": "[encoded data removed]",
      "text/plain": [
       "<Figure size 432x288 with 1 Axes>"
      ]
     },
     "metadata": {
      "needs_background": "light"
     },
     "output_type": "display_data"
    }
   ],
   "source": [
    "def show_moves(agent, env):\n",
    "    \"\"\" Shows some examples moves between agent and enviroment. \"\"\"\n",
    "    \n",
    "    print(\"Playing game with agent {} in environment {}\".format(agent, env)) \n",
    "    obs, reward = env.reset(), 0    \n",
    "    for i in range(10):\n",
    "        action = agent.act(obs,reward)\n",
    "        print(\"Saw observation {} with reward {} and played action {}\".format(obs, reward, action))\n",
    "        obs, reward, done, info = env.step(action)\n",
    "        env.render()\n",
    "        if done:\n",
    "            break        \n",
    "            \n",
    "def evaluate_agent(agent, env, max_steps = 1000):\n",
    "    \"\"\" Evaluates the agents performance on the environment. \"\"\"\n",
    "        \n",
    "    obs, reward = env.reset(), 0    \n",
    "    total_reward = 0\n",
    "    reward_history = []\n",
    "    \n",
    "    for i in range(max_steps):\n",
    "        action = agent.act(obs,reward)\n",
    "        obs, reward, done, info = env.step(action)\n",
    "        total_reward += reward\n",
    "        reward_history.append(total_reward)\n",
    "        if done:\n",
    "            break \n",
    "        \n",
    "    return reward_history\n",
    "        \n",
    "def plot_reward_history(agent, env):\n",
    "    \n",
    "    steps = 1000\n",
    "    trials = 100\n",
    "    \n",
    "    total_reward = np.zeros(steps)\n",
    "\n",
    "    for i in range(trials):\n",
    "        total_reward += np.array(np.array(evaluate_agent(agent, env, steps))) / trials\n",
    "\n",
    "    plt.plot(range(steps), total_reward, label=agent)        \n",
    "    plt.xlabel(\"Step\")\n",
    "    plt.ylabel(\"Average Reward\")    \n",
    "    plt.legend()\n",
    "    plt.show()\n",
    "\n",
    "env = Grid4x4()\n",
    "agent = RandomAgent(env.action_space)\n",
    "plot_reward_history(agent,env)"
   ]
  },
  {
   "cell_type": "code",
   "execution_count": null,
   "metadata": {},
   "outputs": [],
   "source": []
  }
 ],
 "metadata": {
  "kernelspec": {
   "display_name": "Python 3",
   "language": "python",
   "name": "python3"
  },
  "language_info": {
   "codemirror_mode": {
    "name": "ipython",
    "version": 3
   },
   "file_extension": ".py",
   "mimetype": "text/x-python",
   "name": "python",
   "nbconvert_exporter": "python",
   "pygments_lexer": "ipython3",
   "version": "3.6.7"
  }
 },
 "nbformat": 4,
 "nbformat_minor": 2
}
