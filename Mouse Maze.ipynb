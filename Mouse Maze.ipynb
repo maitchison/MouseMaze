{
 "cells": [
  {
   "cell_type": "markdown",
   "metadata": {},
   "source": [
    "# Mouse Maze \n",
    "\n",
    "A maze solved with 3 different levels of information.\n",
    "\n",
    "1. MDP\n",
    "2. POMDP\n",
    "3. No state information\n",
    "\n",
    "Ideas:\n",
    "Add 'wind' to maze\n",
    "Add telporters and traps\n",
    "Maybe secret passages?\n",
    "Keys and doors?"
   ]
  },
  {
   "cell_type": "code",
   "execution_count": 115,
   "metadata": {},
   "outputs": [
    {
     "name": "stdout",
     "output_type": "stream",
     "text": [
      "The autoreload extension is already loaded. To reload it, use:\n",
      "  %reload_ext autoreload\n"
     ]
    }
   ],
   "source": [
    "import numpy as np\n",
    "import matplotlib.pyplot as plt\n",
    "import kruskal\n",
    "import gym\n",
    "\n",
    "from maze import Maze_MDP, Maze_POMDP\n",
    "from utilities import clip, smooth, int_to_bits, bits_to_int, softmax\n",
    "from collections import deque\n",
    "from gym import error, spaces, utils\n",
    "\n",
    "%load_ext autoreload\n",
    "%autoreload 2"
   ]
  },
  {
   "cell_type": "code",
   "execution_count": 2,
   "metadata": {},
   "outputs": [
    {
     "data": {
      "image/png": "[encoded data removed]",
      "text/plain": [
       "<Figure size 432x288 with 1 Axes>"
      ]
     },
     "metadata": {
      "needs_background": "light"
     },
     "output_type": "display_data"
    }
   ],
   "source": [
    "# quick test...\n",
    "maze = Maze_MDP(17,17)\n",
    "maze.generate_random(5)\n",
    "maze.plot()"
   ]
  },
  {
   "cell_type": "markdown",
   "metadata": {},
   "source": [
    "# 1. MDP\n",
    "\n",
    "Solve the maze as a markov decision process.  We have perfect information in this case, so learning is realtively easy via q-learning.\n",
    "\n",
    "We will implement the following 3 algorithms\n",
    "\n",
    "* Sarasa\n",
    "* TD-Learning\n",
    "* Q-Learning\n",
    "\n",
    "and evaluate how long it takes for them to converge on the optimal solution."
   ]
  },
  {
   "cell_type": "markdown",
   "metadata": {},
   "source": [
    "## 1.1 Sarsa\n",
    "\n",
    "Apply the Sarsa algorithm to the problem."
   ]
  },
  {
   "cell_type": "code",
   "execution_count": 3,
   "metadata": {},
   "outputs": [],
   "source": [
    "class Sarsa_Agent():\n",
    "    \"\"\" Sarsa algroithm \"\"\"\n",
    "    \n",
    "    def __init__(self, env):\n",
    "        self.Q = np.zeros((env.width,env.height,len(env.ACTIONS)))\n",
    "        self.alpha = 0.5\n",
    "        self.gamma = 1.0\n",
    "        self.epsilon = 0.1\n",
    "        self.env = env\n",
    "    \n",
    "    def policy_action(self, state, eps=None):\n",
    "        \"\"\" returns sampled policy action at given state.\"\"\"\n",
    "        if np.random.rand() < (eps if eps is not None else self.epsilon):\n",
    "            return np.random.randint(len(self.env.ACTIONS))\n",
    "        else:\n",
    "            x,y = state\n",
    "            return np.random.choice(np.flatnonzero(self.Q[x,y] == self.Q[x,y].max()))        \n",
    "        \n",
    "    def show_policy(self):\n",
    "        # display our policy        \n",
    "\n",
    "        plt.imshow(self.env.tile)\n",
    "        \n",
    "        self.env.reset()\n",
    "        x,y = self.env.state\n",
    "        \n",
    "        history = [(x,y,0)]\n",
    "        \n",
    "        for i in range(100):\n",
    "            # take determinstic policy\n",
    "            a = self.policy_action(self.env.state,0) \n",
    "            self.env.step(int(a))\n",
    "            x,y = self.env.state\n",
    "            history.append((x, y, i+1))\n",
    "            if (x,y) == self.env.goal:\n",
    "                print(\"Policy reached goal in {} steps\".format(i+1))\n",
    "                break\n",
    "        else:\n",
    "            print(\"Failed to find path to goal after {} steps.\".format(i))\n",
    "\n",
    "        X = [x for (x,y,c) in history]\n",
    "        Y = [y for (x,y,c) in history]\n",
    "        C = [c for (x,y,c) in history]\n",
    "                        \n",
    "        plt.scatter(Y,X,c='red',s = 25.0/self.env.width)\n",
    "        plt.show()\n",
    "\n",
    "    \n",
    "    def evaluate(self, max_steps=100, deterministic=False):\n",
    "        \"\"\" Evaluates the agents performance with a potentialy determanistic\n",
    "            policy.\n",
    "            Returns number of steps taken and reward.\n",
    "        \"\"\"\n",
    "        self.env.reset()\n",
    "        total_reward = 0\n",
    "        \n",
    "        for step in range(max_steps):\n",
    "            a = self.policy_action(self.env.state, eps=0 if deterministic else self.epsilon)\n",
    "            (new_state, reward, done, info) = self.env.step(int(a))\n",
    "            total_reward += reward\n",
    "            if done:\n",
    "                break\n",
    "        return step+1, total_reward\n",
    "            \n",
    "            \n",
    "    def train(self, iterations=100, max_steps=100):\n",
    "        \"\"\" Train the agent.\n",
    "            Returns evaluations at various intervals.\n",
    "        \"\"\"\n",
    "        \n",
    "        EVAL_EVERY = 10\n",
    "        \n",
    "        history = []\n",
    "        for n in range(iterations):\n",
    "            obs = self.env.reset()\n",
    "            a = self.policy_action(obs)\n",
    "            for step in range(max_steps):\n",
    "                x,y = self.env.state                \n",
    "                (new_obs, reward, done, info) = self.env.step(int(a))\n",
    "                x_, y_ = new_obs\n",
    "                a_ = self.policy_action(new_obs)\n",
    "                                                \n",
    "                self.Q[x,y,a] += self.alpha * (reward + self.gamma * self.Q[x_, y_, a_] - self.Q[x,y,a])\n",
    "                x,y,a = x_, y_, a_\n",
    "                                \n",
    "                if done:\n",
    "                    break\n",
    "                \n",
    "            # do a determanistic evaluation.\n",
    "            if n % EVAL_EVERY == 0:\n",
    "                steps_taken, total_reward = self.evaluate(max_steps)\n",
    "                history.append((n, steps_taken, total_reward))               \n",
    "            \n",
    "        return history"
   ]
  },
  {
   "cell_type": "code",
   "execution_count": 4,
   "metadata": {},
   "outputs": [
    {
     "data": {
      "image/png": "[encoded data removed]",
      "text/plain": [
       "<Figure size 432x288 with 1 Axes>"
      ]
     },
     "metadata": {
      "needs_background": "light"
     },
     "output_type": "display_data"
    },
    {
     "data": {
      "image/png": "[encoded data removed]",
      "text/plain": [
       "<Figure size 432x288 with 1 Axes>"
      ]
     },
     "metadata": {
      "needs_background": "light"
     },
     "output_type": "display_data"
    },
    {
     "name": "stdout",
     "output_type": "stream",
     "text": [
      "Policy reached goal in 12 steps\n"
     ]
    },
    {
     "data": {
      "image/png": "[encoded data removed]",
      "text/plain": [
       "<Figure size 432x288 with 1 Axes>"
      ]
     },
     "metadata": {
      "needs_background": "light"
     },
     "output_type": "display_data"
    }
   ],
   "source": [
    "# quick test...\n",
    "maze = Maze_MDP(17,17)\n",
    "maze.generate_random(5)\n",
    "maze.plot()\n",
    "\n",
    "agent = Sarsa_Agent(maze)\n",
    "history = agent.train(iterations=10000, max_steps=250)\n",
    "\n",
    "BURN_IN = 0\n",
    "\n",
    "x = [step for (step,steps_taken,reward) in history[BURN_IN:]]\n",
    "steps_taken = [steps_taken for (step,steps_taken,reward) in history[BURN_IN:]]\n",
    "\n",
    "plt.plot(x,steps_taken,c=\"#C4CFFF\")\n",
    "plt.plot(x,smooth(steps_taken), c=\"#7474FF\")\n",
    "plt.ylabel(\"Steps taken\")\n",
    "plt.xlabel(\"Iteration\")\n",
    "plt.show()\n",
    "\n",
    "agent.show_policy()"
   ]
  },
  {
   "cell_type": "markdown",
   "metadata": {},
   "source": [
    "# 2. POMDP\n",
    "\n",
    "Observation is the 4 adjacent walls.. \n",
    "Extension is walls are correct with probability 0.9\n",
    "\n",
    "Look into algorithms for solving this.\n",
    "Some ideas are\n",
    "* FRL\n",
    "* RNN\n",
    "* Normal method.. but this will probably not work..."
   ]
  },
  {
   "cell_type": "markdown",
   "metadata": {},
   "source": [
    "## 2.1 Sarsa (POMDP)\n",
    "\n",
    "First we show that the standard MDP algorithms do not work on this modified problem.  This is because the observation space is no longer the same as the state space, and so we have aliasing"
   ]
  },
  {
   "cell_type": "code",
   "execution_count": 5,
   "metadata": {},
   "outputs": [],
   "source": [
    "class Agent():\n",
    "    \n",
    "    def __init__(self, env):\n",
    "        self.env = env\n",
    "        \n",
    "    def show_policy(self):\n",
    "        # display our policy        \n",
    "\n",
    "        plt.imshow(self.env.tile)\n",
    "        \n",
    "        obs = self.env.reset()\n",
    "        \n",
    "        x,y = self.env.state\n",
    "        history = [(x,y,0)]\n",
    "        \n",
    "        for i in range(100):\n",
    "            # take determinstic policy\n",
    "            a = self.policy_action(obs) \n",
    "            obs, _, _, _ = self.env.step(int(a))\n",
    "            x,y = self.env.state\n",
    "            history.append((x, y, i+1))\n",
    "            if (x,y) == self.env.goal:\n",
    "                print(\"reached goal in {} steps\".format(i+1))\n",
    "                break\n",
    "\n",
    "        X = [x for (x,y,c) in history]\n",
    "        Y = [y for (x,y,c) in history]\n",
    "        C = [c for (x,y,c) in history]\n",
    "                        \n",
    "        plt.scatter(Y,X,c='red',s = 25.0/self.env.width)\n",
    "        plt.show()\n",
    "\n",
    "    \n",
    "class Sarsa_POMDP(Agent):\n",
    "    \"\"\" Sarsa algroithm, for partial observations \"\"\"\n",
    "    \n",
    "    def __init__(self, env):\n",
    "        super().__init__(env)\n",
    "        self.Q = np.zeros((16,len(env.ACTIONS)))\n",
    "        self.alpha = 0.5\n",
    "        self.gamma = 1.0\n",
    "        self.epsilon = 0.1\n",
    "            \n",
    "    def policy_action(self, state, eps=None):\n",
    "        \"\"\" returns sampled policy action at given state.\"\"\"\n",
    "        if np.random.rand() < (eps if eps is not None else self.epsilon):\n",
    "            return np.random.randint(len(self.env.ACTIONS))\n",
    "        else:            \n",
    "            return np.random.choice(np.flatnonzero(self.Q[state] == self.Q[state].max()))                                \n",
    "            \n",
    "    def train(self, iterations=100, max_steps=100):\n",
    "        \"\"\" Train the agent.\n",
    "            Returns evaluations at various intervals.\n",
    "        \"\"\"\n",
    "        \n",
    "        EVAL_EVERY = 10\n",
    "        \n",
    "        history = []\n",
    "        for n in range(iterations):\n",
    "            obs = self.env.reset()\n",
    "            a = self.policy_action(obs)\n",
    "            total_reward = 0\n",
    "            for step in range(max_steps):\n",
    "                (new_obs, reward, done, info) = self.env.step(int(a))\n",
    "                a_ = self.policy_action(new_obs)\n",
    "                total_reward += reward\n",
    "                                                \n",
    "                self.Q[obs,a] += self.alpha * (reward + self.gamma * self.Q[new_obs, a_] - self.Q[obs,a])\n",
    "                obs = new_obs\n",
    "                                \n",
    "                if done:\n",
    "                    break\n",
    "                \n",
    "            history.append((n, step, total_reward))               \n",
    "            \n",
    "        return history"
   ]
  },
  {
   "cell_type": "code",
   "execution_count": 6,
   "metadata": {},
   "outputs": [
    {
     "data": {
      "image/png": "[encoded data removed]",
      "text/plain": [
       "<Figure size 432x288 with 1 Axes>"
      ]
     },
     "metadata": {
      "needs_background": "light"
     },
     "output_type": "display_data"
    },
    {
     "data": {
      "image/png": "[encoded data removed]",
      "text/plain": [
       "<Figure size 432x288 with 1 Axes>"
      ]
     },
     "metadata": {
      "needs_background": "light"
     },
     "output_type": "display_data"
    },
    {
     "data": {
      "image/png": "[encoded data removed]",
      "text/plain": [
       "<Figure size 432x288 with 1 Axes>"
      ]
     },
     "metadata": {
      "needs_background": "light"
     },
     "output_type": "display_data"
    }
   ],
   "source": [
    "# quick test...\n",
    "maze = Maze_POMDP(17,17)\n",
    "maze.generate_random(5)\n",
    "maze.plot()\n",
    "\n",
    "agent = Sarsa_POMDP(maze)\n",
    "history = agent.train(iterations=5000, max_steps=1000)\n",
    "\n",
    "x = [step for (step,steps_taken,reward) in history]\n",
    "steps_taken = [steps_taken for (step,steps_taken,reward) in history]\n",
    "\n",
    "plt.plot(x,smooth(steps_taken))\n",
    "plt.ylabel(\"Steps taken\")\n",
    "plt.xlabel(\"Iteration\")\n",
    "plt.show()\n",
    "\n",
    "agent.show_policy()"
   ]
  },
  {
   "cell_type": "code",
   "execution_count": 7,
   "metadata": {},
   "outputs": [
    {
     "data": {
      "image/png": "[encoded data removed]",
      "text/plain": [
       "<Figure size 432x288 with 1 Axes>"
      ]
     },
     "metadata": {
      "needs_background": "light"
     },
     "output_type": "display_data"
    }
   ],
   "source": [
    "agent.show_policy()"
   ]
  },
  {
   "cell_type": "markdown",
   "metadata": {},
   "source": [
    "Sarsa fails due to state alaising.  Multiple locations have identical observations.  The problem is therefore not markovian, and some kind of history or memory is required.  Using a less deterministic policy might help a little as we could learn actions as a mixuture of the possiable locations the agent could be in."
   ]
  },
  {
   "cell_type": "markdown",
   "metadata": {},
   "source": [
    "# 2.2 Baysian\n",
    "\n",
    "Maintain a beleif state based on observations and act according to ?most likely? state, or a mixture of the states?"
   ]
  },
  {
   "cell_type": "code",
   "execution_count": 135,
   "metadata": {
    "scrolled": false
   },
   "outputs": [],
   "source": [
    "class Baysian_Agent(Agent):\n",
    "    \"\"\" Baysian belief algroithm, for partial observations \"\"\"\n",
    "    \"\"\" Note:\n",
    "            I think I could probably do this by updating the belief with every action, but it's easyer to just\n",
    "            check which states are constant with the history.\n",
    "    \"\"\"\n",
    "    \n",
    "    def __init__(self, env, Q):\n",
    "        \"\"\" Initialize Baysian Agent, requires Q values for fully observiable version. \"\"\"\n",
    "        super().__init__(env)\n",
    "        \n",
    "        # calculate Q values using full information\n",
    "        sub_agent = Sarsa_Agent(env)\n",
    "        self.Q = Q        \n",
    "        self.o_probs = self.determine_probs()        \n",
    "        self.reset_belief()\n",
    "                \n",
    "        \n",
    "    def reset_belief(self):\n",
    "        # start with a uniform belief over all empty states\n",
    "        self.belief = np.zeros((self.env.width, self.env.height))\n",
    "        for x in range(1,self.env.height-1):\n",
    "            for y in range(1,self.env.width-1):      \n",
    "                if self.env.tile[x,y] == 0:\n",
    "                    self.belief[x,y] = 1\n",
    "\n",
    "        # normalise\n",
    "        self.belief /= np.sum(self.belief)\n",
    "\n",
    "        \n",
    "    def update_belief(self, action, obs):\n",
    "        \"\"\" Update our current belief vector via bayes rule. \"\"\"\n",
    "        \n",
    "        potential_starting_states = 0\n",
    "        pattern = int_to_bits(obs,4)\n",
    "        \n",
    "        new_belief = np.zeros_like(self.belief)\n",
    "        \n",
    "        #print(\"Before update\\n\", self.belief, \"\\n\")\n",
    "        \n",
    "        # first apply the effect of the action on our belief state.\n",
    "        if action is not None:\n",
    "            dx,dy = self.env.DELTAS[action]\n",
    "            for x in range(1,self.env.height-1):\n",
    "                for y in range(1,self.env.width-1):      \n",
    "                    if self.env.can_move_to(x+dx, y+dy):\n",
    "                        new_belief[x+dx,y+dy] += self.belief[x,y]                        \n",
    "                    else:\n",
    "                        # we can't make the move so just keep the mass here.\n",
    "                        new_belief[x,y] += self.belief[x,y]                                                                                                        \n",
    "            self.belief = new_belief\n",
    "        \n",
    "        #print(\"After action update\\n\", self.belief, \"\\n\")\n",
    "\n",
    "        # next apply bayes rule to exclude any states that don't match the current observation                \n",
    "        if obs is not None:\n",
    "            for x in range(self.env.height):\n",
    "                for y in range(self.env.width):                \n",
    "                    # p(s|o) = p(o|s)p(s) / p(o)\n",
    "                    if not self.matches_pattern(x,y, pattern):\n",
    "                        self.belief[x,y] = 0\n",
    "\n",
    "        #print(\"After observation update\\n\", self.belief, \"\\n\")\n",
    "                        \n",
    "        # normalising is easyer than finding the correct ratio.\n",
    "        # but if we did want to do this it's just 1/p(o)\n",
    "        if np.sum(self.belief) == 0:\n",
    "            raise Exception(\"No states match observation history.\")\n",
    "        self.belief /= np.sum(self.belief)\n",
    "                                            \n",
    "                \n",
    "    def matches_pattern(self, x, y, pattern):\n",
    "        \"\"\" Returns if the tile position matches given pattern\"\"\"\n",
    "        if self.env.tile[x,y] == 1: \n",
    "            return False\n",
    "        observed_pattern = [self.env.tile[x+dx,y+dy] == 1 for dx, dy in self.env.DELTAS]\n",
    "        return tuple(observed_pattern) == tuple(pattern)\n",
    "        \n",
    "    def show_belief(self):\n",
    "        plt.imshow(self.belief * 100 + self.env.tile, vmin=0, vmax=100)\n",
    "        plt.show()\n",
    "        \n",
    "    def determine_probs(self):\n",
    "        \"\"\" Calculate p(o|s) based on map occurrances \"\"\"\n",
    "        \n",
    "        def count_pattern(pattern):\n",
    "            \"\"\" Counters number of times given patern occurs.  Pattern is an array of 4 booleans. \"\"\"\n",
    "            counter = 0\n",
    "            for x in range(self.env.width):\n",
    "                for y in range(self.env.height):\n",
    "                    if self.matches_pattern(x,y,pattern):\n",
    "                        counter += 1                    \n",
    "            return counter\n",
    "        \n",
    "        floor_tiles = (self.env.width*self.env.height) - np.count_nonzero(self.env.tile)\n",
    "        probs = []\n",
    "        for obs in range(16):\n",
    "            probs.append(count_pattern(int_to_bits(obs,4)) / floor_tiles)\n",
    "        return probs\n",
    "        \n",
    "            \n",
    "    def policy_action(self):\n",
    "        \"\"\" returns policy based on current belief.\"\"\"                \n",
    "        # this wasn't working so now I just pick a location and play the best move if I was there.\n",
    "        pos = []\n",
    "        for x in range(self.env.width):\n",
    "            for y in range(self.env.height):\n",
    "                pos.append((x,y))\n",
    "        x,y = pos[np.random.choice(range(len(pos)), p=self.belief.ravel())]\n",
    "        #print(\"guessed \",x,y,\" was at \",self.env.state)\n",
    "        return np.random.choice(np.flatnonzero(self.Q[x,y] == self.Q[x,y].max()))        \n",
    "        \n",
    "        \"\"\"\n",
    "        \n",
    "        # this shouldn't be necessary, but at the moment the agent gets stuck and needs a bit of random\n",
    "        # help to get out.  This either means the q values are wrong, or something in my policy decision making\n",
    "        # is wrong.  Maybe I shouldn't be using argmax?\n",
    "        #if np.random.rand() < 0.05:\n",
    "        #    return np.random.randint(len(self.env.ACTIONS))\n",
    "        \n",
    "        value = np.array([0 for action in self.env.ACTIONS], dtype=np.float32)\n",
    "        \n",
    "        for action in range(4):\n",
    "            value[action] = np.sum(self.belief*self.Q[:,:,action])\n",
    "            \n",
    "        # try softmax\n",
    "        sm = softmax(value)\n",
    "        return np.random.choice(range(4), p=sm)\n",
    "        \"\"\"\n",
    "    \n",
    "    def show_walk(self, max_steps=100):\n",
    "        obs = self.env.reset()\n",
    "        self.reset_belief()\n",
    "        self.update_belief(None, obs)\n",
    "        for step in range(max_steps):\n",
    "            a = self.policy_action()\n",
    "            (obs, reward, done, info) = self.env.step(int(a))\n",
    "            self.show_belief()\n",
    "            if done:\n",
    "                break                \n",
    "            self.update_belief(a, obs)                \n",
    "                                \n",
    "    def train(self, iterations=100, max_steps=100):\n",
    "        \"\"\" Train the agent.\n",
    "            Returns evaluations at various intervals.\n",
    "        \"\"\"\n",
    "        \n",
    "        history = []\n",
    "        for n in range(iterations):\n",
    "            obs = self.env.reset()\n",
    "            self.reset_belief()\n",
    "            self.update_belief(None, obs)\n",
    "            total_reward = 0\n",
    "            for step in range(max_steps):\n",
    "                a = self.policy_action()\n",
    "                (obs, reward, done, info) = self.env.step(int(a))\n",
    "                total_reward += reward                                                                                                                \n",
    "                if done:\n",
    "                    break                \n",
    "                self.update_belief(a, obs)                \n",
    "                                                \n",
    "            history.append((n, step, total_reward))               \n",
    "            \n",
    "        return history"
   ]
  },
  {
   "cell_type": "code",
   "execution_count": 138,
   "metadata": {
    "scrolled": false
   },
   "outputs": [
    {
     "data": {
      "image/png": "[encoded data removed]",
      "text/plain": [
       "<Figure size 432x288 with 1 Axes>"
      ]
     },
     "metadata": {
      "needs_background": "light"
     },
     "output_type": "display_data"
    },
    {
     "data": {
      "image/png": "[encoded data removed]",
      "text/plain": [
       "<Figure size 432x288 with 1 Axes>"
      ]
     },
     "metadata": {
      "needs_background": "light"
     },
     "output_type": "display_data"
    }
   ],
   "source": [
    "maze = Maze_MDP(29,29)\n",
    "maze.generate_random(5)\n",
    "agent = Sarsa_Agent(maze)\n",
    "agent.train(iterations=5000, max_steps=1000)\n",
    "q = agent.Q\n",
    "\n",
    "maze = Maze_POMDP(maze.width,maze.height)\n",
    "maze.generate_random(5)\n",
    "maze.plot()\n",
    "\n",
    "agent = Baysian_Agent(maze,q)\n",
    "history = agent.train(iterations=1000, max_steps=100)\n",
    "\n",
    "x = [step for (step,steps_taken,reward) in history]\n",
    "steps_taken = [steps_taken for (step,steps_taken,reward) in history]\n",
    "\n",
    "plt.hist(steps_taken,bins=100)\n",
    "plt.show()"
   ]
  },
  {
   "cell_type": "code",
   "execution_count": 137,
   "metadata": {
    "scrolled": false
   },
   "outputs": [
    {
     "data": {
      "image/png": "[encoded data removed]",
      "text/plain": [
       "<Figure size 432x288 with 1 Axes>"
      ]
     },
     "metadata": {
      "needs_background": "light"
     },
     "output_type": "display_data"
    },
    {
     "data": {
      "image/png": "[encoded data removed]",
      "text/plain": [
       "<Figure size 432x288 with 1 Axes>"
      ]
     },
     "metadata": {
      "needs_background": "light"
     },
     "output_type": "display_data"
    },
    {
     "data": {
      "image/png": "[encoded data removed]",
      "text/plain": [
       "<Figure size 432x288 with 1 Axes>"
      ]
     },
     "metadata": {
      "needs_background": "light"
     },
     "output_type": "display_data"
    },
    {
     "data": {
      "image/png": "[encoded data removed]",
      "text/plain": [
       "<Figure size 432x288 with 1 Axes>"
      ]
     },
     "metadata": {
      "needs_background": "light"
     },
     "output_type": "display_data"
    },
    {
     "data": {
      "image/png": "[encoded data removed]",
      "text/plain": [
       "<Figure size 432x288 with 1 Axes>"
      ]
     },
     "metadata": {
      "needs_background": "light"
     },
     "output_type": "display_data"
    },
    {
     "data": {
      "image/png": "[encoded data removed]",
      "text/plain": [
       "<Figure size 432x288 with 1 Axes>"
      ]
     },
     "metadata": {
      "needs_background": "light"
     },
     "output_type": "display_data"
    },
    {
     "data": {
      "image/png": "[encoded data removed]",
      "text/plain": [
       "<Figure size 432x288 with 1 Axes>"
      ]
     },
     "metadata": {
      "needs_background": "light"
     },
     "output_type": "display_data"
    },
    {
     "data": {
      "image/png": "[encoded data removed]",
      "text/plain": [
       "<Figure size 432x288 with 1 Axes>"
      ]
     },
     "metadata": {
      "needs_background": "light"
     },
     "output_type": "display_data"
    },
    {
     "data": {
      "image/png": "[encoded data removed]",
      "text/plain": [
       "<Figure size 432x288 with 1 Axes>"
      ]
     },
     "metadata": {
      "needs_background": "light"
     },
     "output_type": "display_data"
    }
   ],
   "source": [
    "# show belief walk :)\n",
    "agent.show_walk()"
   ]
  }
 ],
 "metadata": {
  "kernelspec": {
   "display_name": "Python 3",
   "language": "python",
   "name": "python3"
  },
  "language_info": {
   "codemirror_mode": {
    "name": "ipython",
    "version": 3
   },
   "file_extension": ".py",
   "mimetype": "text/x-python",
   "name": "python",
   "nbconvert_exporter": "python",
   "pygments_lexer": "ipython3",
   "version": "3.7.0"
  }
 },
 "nbformat": 4,
 "nbformat_minor": 2
}
