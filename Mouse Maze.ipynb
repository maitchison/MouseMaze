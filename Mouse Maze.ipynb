{
 "cells": [
  {
   "cell_type": "markdown",
   "metadata": {},
   "source": [
    "# Mouse Maze \n",
    "\n",
    "A maze solved with 3 different levels of information.\n",
    "\n",
    "1. MDP\n",
    "2. POMDP\n",
    "3. No state information\n",
    "\n",
    "Ideas:\n",
    "Add 'wind' to maze\n",
    "Add telporters and traps\n",
    "Maybe secret passages?\n",
    "Keys and doors?"
   ]
  },
  {
   "cell_type": "code",
   "execution_count": 21,
   "metadata": {},
   "outputs": [
    {
     "name": "stdout",
     "output_type": "stream",
     "text": [
      "The autoreload extension is already loaded. To reload it, use:\n",
      "  %reload_ext autoreload\n"
     ]
    }
   ],
   "source": [
    "import numpy as np\n",
    "import matplotlib.pyplot as plt\n",
    "import kruskal\n",
    "import gym\n",
    "from gym import error, spaces, utils\n",
    "\n",
    "%load_ext autoreload\n",
    "%autoreload 2"
   ]
  },
  {
   "cell_type": "code",
   "execution_count": 6,
   "metadata": {},
   "outputs": [],
   "source": [
    "# utility functions\n",
    "def clip(x,low,high):\n",
    "    if x < low: return low\n",
    "    if x > high: return high\n",
    "    return x"
   ]
  },
  {
   "cell_type": "code",
   "execution_count": 28,
   "metadata": {},
   "outputs": [],
   "source": [
    "class Maze(gym.Env):        \n",
    "    \"\"\" MDP verson of maze. \n",
    "        State is our x,y location.\n",
    "    \"\"\"\n",
    "    \n",
    "    metadata = {\n",
    "        \"render.modes\": [\"human\", \"rgb_array\"],\n",
    "    }\n",
    "    \n",
    "    ACTIONS = ['north','south','east','west']        \n",
    "    DELTAS = [(0,-1),(0,+1),(-1,0),(+1,0)]                \n",
    "        \n",
    "    def __init__(self, width, height):\n",
    "        self.width = width\n",
    "        self.height = height        \n",
    "        self.tile = np.zeros((width, height))\n",
    "        self.action_space = spaces.Discrete(len(self.ACTIONS))\n",
    "        self.observation_space = spaces.Box(np.array([0,0]),np.array([width,height]))\n",
    "        \n",
    "        self.state = (0,0)        \n",
    "       \n",
    "    # ----------------------------------\n",
    "    # Open AI interface\n",
    "    # ----------------------------------\n",
    "    \n",
    "    def _reset():\n",
    "        \"\"\" reset enviroment and return inital observation. \"\"\"\n",
    "        self.state = self.start\n",
    "        return self.state\n",
    "    \n",
    "    def _render(self, mode=\"human\", close=False):\n",
    "        # not implemented yet...\n",
    "        output = self.tile\n",
    "        x,y = self.state\n",
    "        output[x,y] = -1\n",
    "        return output\n",
    "    \n",
    "    def _step(self, action):\n",
    "        assert isinstance(action, int), \"Action must be of type int.\"\n",
    "        self.move(self.DELTAS[action])\n",
    "        reward = 1 if self.at_goal() else -0.1\n",
    "        done = (reward == 1)\n",
    "        info = {}\n",
    "        return (self.state, reward, done, info)\n",
    "        \n",
    "    # ----------------------------------\n",
    "    # General\n",
    "    # ----------------------------------\n",
    "    \n",
    "    def at_goal(self):\n",
    "        return self.state == self.goal\n",
    "    \n",
    "    def move(self, dx, dy):\n",
    "        x,y = self.state\n",
    "        x += dx \n",
    "        y += dy        \n",
    "        if self.can_move(x,y):\n",
    "            self.state = (x,y)\n",
    "        else:\n",
    "            # invalid move\n",
    "            pass                            \n",
    "    \n",
    "    def generate_random(self, seed=None):\n",
    "        \"\"\" generate a random maze using kruskals algorithm\"\"\"\n",
    "        \n",
    "        assert self.width >= 3 and \\\n",
    "            self.height >= 3 and \\\n",
    "            self.width % 2 == 1 and \\\n",
    "            self.height % 2 == 1, \\\n",
    "            \"Width and height must be >=3 and odd.\"\n",
    "        \n",
    "        if seed is not None:\n",
    "            np.random.seed(seed)\n",
    "            \n",
    "        # The idea is to use kruskals with random weights on a smaller grid then expand the grid out\n",
    "        # so that there are rooms for the walls inbetween the tiles.\n",
    "            \n",
    "        h_width = self.width // 2\n",
    "        h_height = self.height // 2\n",
    "            \n",
    "        g = kruskal.Graph(h_width*h_height)\n",
    "\n",
    "        def in_bounds(x,y):\n",
    "            return x >= 0 and y >= 0 and x < h_width and y < h_height\n",
    "\n",
    "        def add_edge(g,x1,y1,x2,y2, cost):\n",
    "            if in_bounds(x1,y1) and in_bounds(x2,y2):\n",
    "                g.addEdge(x1+y1*h_width, x2+y2*h_width, cost)\n",
    "                g.addEdge(x2+y2*h_width, x1+y1*h_width, cost)                \n",
    "\n",
    "        for x in range(h_width):\n",
    "            for y in range(h_height):\n",
    "                for dx,dy in self.DELTAS:\n",
    "                    add_edge(g,x,y,x+dx,y+dy,np.random.randint(1,10))\n",
    "\n",
    "        graph = g.KruskalMST()\n",
    "        \n",
    "        self.tile = np.ones((self.width, self.height))\n",
    "        \n",
    "        start = (np.random.randint(h_width), np.random.randint(h_height))\n",
    "        goal = (np.random.randint(h_width), np.random.randint(h_height))        \n",
    "        \n",
    "        # save start location for later\n",
    "        self.start = (start[0]*2+1, start[1]*2+1) \n",
    "        self.goal = (goal[0]*2+1, goal[1]*2+1) \n",
    "        \n",
    "        # fill in rooms\n",
    "        for x in range(h_width):\n",
    "            for y in range(h_height):    \n",
    "                mask = 0\n",
    "                if ((x,y)==start): mask += 2\n",
    "                if ((x,y)==goal): mask += 4\n",
    "                self.tile[x*2+1,y*2+1] = mask\n",
    "        \n",
    "        # convert from graph to walls \n",
    "        for head,tail,weight in graph:\n",
    "            x1, y1 = head % h_width, head // h_width\n",
    "            x2, y2 = tail % h_width, tail // h_width\n",
    "            dx = x2-x1\n",
    "            dy = y2-y1                        \n",
    "            self.tile[x1*2+1+dx,y1*2+1+dy] = 0        \n",
    "        \n",
    "    \n",
    "    def plot(self):\n",
    "        \"\"\" plot the maze. \"\"\"        \n",
    "        plt.imshow(self.tile)\n",
    "        plt.show()"
   ]
  },
  {
   "cell_type": "code",
   "execution_count": 29,
   "metadata": {},
   "outputs": [
    {
     "name": "stdout",
     "output_type": "stream",
     "text": [
      "\u001b[33mWARN: gym.spaces.Box autodetected dtype as <class 'numpy.float32'>. Please provide explicit dtype.\u001b[0m\n"
     ]
    },
    {
     "data": {
      "image/png": "[encoded data removed]",
      "text/plain": [
       "<Figure size 432x288 with 1 Axes>"
      ]
     },
     "metadata": {
      "needs_background": "light"
     },
     "output_type": "display_data"
    }
   ],
   "source": [
    "maze = Maze(17,17)\n",
    "maze.generate_random(5)\n",
    "maze.plot()"
   ]
  },
  {
   "cell_type": "markdown",
   "metadata": {},
   "source": [
    "# 1 MDP\n",
    "\n",
    "Solve the maze as a markov decision process.  We have perfect information in this case, so learning is realtively easy via q-learning.\n",
    "\n",
    "We will implement the following 3 algorithms\n",
    "\n",
    "* Sarasa\n",
    "* TD-Learning\n",
    "* Q-Learning\n",
    "\n",
    "and evaluate how long it takes for them to converge on the optimal solution."
   ]
  },
  {
   "cell_type": "code",
   "execution_count": null,
   "metadata": {},
   "outputs": [],
   "source": []
  }
 ],
 "metadata": {
  "kernelspec": {
   "display_name": "Python 3",
   "language": "python",
   "name": "python3"
  },
  "language_info": {
   "codemirror_mode": {
    "name": "ipython",
    "version": 3
   },
   "file_extension": ".py",
   "mimetype": "text/x-python",
   "name": "python",
   "nbconvert_exporter": "python",
   "pygments_lexer": "ipython3",
   "version": "3.7.0"
  }
 },
 "nbformat": 4,
 "nbformat_minor": 2
}
