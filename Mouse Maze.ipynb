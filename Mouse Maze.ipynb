{
 "cells": [
  {
   "cell_type": "markdown",
   "metadata": {},
   "source": [
    "# Mouse Maze \n",
    "\n",
    "A maze solved with 3 different levels of information.\n",
    "\n",
    "1. MDP\n",
    "2. POMDP\n",
    "3. No state information"
   ]
  },
  {
   "cell_type": "code",
   "execution_count": 5,
   "metadata": {},
   "outputs": [],
   "source": [
    "import numpy as np\n",
    "import matplotlib.pyplot as plt\n",
    "import kruskal\n",
    "\n",
    "%load_ext autoreload\n",
    "%autoreload 2"
   ]
  },
  {
   "cell_type": "code",
   "execution_count": 71,
   "metadata": {},
   "outputs": [
    {
     "data": {
      "image/png": "[encoded data removed]",
      "text/plain": [
       "<Figure size 432x288 with 1 Axes>"
      ]
     },
     "metadata": {
      "needs_background": "light"
     },
     "output_type": "display_data"
    }
   ],
   "source": [
    "class Maze():    \n",
    "    \n",
    "    def __init__(self, width, height):\n",
    "        self.width = width\n",
    "        self.height = height        \n",
    "        self.tile = np.zeros((width, height))\n",
    "    \n",
    "    def generate_random(self, seed=None):\n",
    "        \"\"\" generate a random maze using kruskals algorithm\"\"\"\n",
    "        \n",
    "        assert self.width >= 3 and \\\n",
    "            self.height >= 3 and \\\n",
    "            self.width % 2 == 1 and \\\n",
    "            self.height % 2 == 1, \\\n",
    "            \"Width and height must be >=3 and odd.\"\n",
    "        \n",
    "        if seed is not None:\n",
    "            np.random.seed(seed)\n",
    "            \n",
    "        # The idea is to use kruskals with random weights on a smaller grid then expand the grid out\n",
    "        # so that there are rooms for the walls inbetween the tiles.\n",
    "            \n",
    "        h_width = self.width // 2\n",
    "        h_height = self.height // 2\n",
    "            \n",
    "        g = kruskal.Graph(h_width*h_height)\n",
    "\n",
    "        def in_bounds(x,y):\n",
    "            return x >= 0 and y >= 0 and x < h_width and y < h_height\n",
    "\n",
    "        def add_edge(g,x1,y1,x2,y2, cost):\n",
    "            if in_bounds(x1,y1) and in_bounds(x2,y2):\n",
    "                g.addEdge(x1+y1*h_width, x2+y2*h_width, cost)\n",
    "                g.addEdge(x2+y2*h_width, x1+y1*h_width, cost)        \n",
    "\n",
    "        deltas = [(0,-1),(0,+1),(-1,0),(+1,0)]                \n",
    "\n",
    "        for x in range(h_width):\n",
    "            for y in range(h_height):\n",
    "                for dx,dy in deltas:\n",
    "                    add_edge(g,x,y,x+dx,y+dy,np.random.randint(1,10))\n",
    "\n",
    "        graph = g.KruskalMST()\n",
    "        \n",
    "        self.tile = np.ones((self.width, self.height))\n",
    "        \n",
    "        # fill in rooms\n",
    "        for x in range(h_width):\n",
    "            for y in range(h_height):\n",
    "                self.tile[x*2+1,y*2+1] = 0\n",
    "        \n",
    "        # convert from graph to walls \n",
    "        for head,tail,weight in graph:\n",
    "            x1, y1 = head % h_width, head // h_width\n",
    "            x2, y2 = tail % h_width, tail // h_width\n",
    "            dx = x2-x1\n",
    "            dy = y2-y1                        \n",
    "            self.tile[x1*2+1+dx,y1*2+1+dy] = 0        \n",
    "        \n",
    "    \n",
    "    def plot(self):\n",
    "        \"\"\" plot the maze. \"\"\"        \n",
    "        plt.imshow(self.tile)\n",
    "        plt.show()\n",
    "\n",
    "maze = Maze(17,17)\n",
    "maze.generate_random(5)\n",
    "maze.plot()"
   ]
  }
 ],
 "metadata": {
  "kernelspec": {
   "display_name": "Python 3",
   "language": "python",
   "name": "python3"
  },
  "language_info": {
   "codemirror_mode": {
    "name": "ipython",
    "version": 3
   },
   "file_extension": ".py",
   "mimetype": "text/x-python",
   "name": "python",
   "nbconvert_exporter": "python",
   "pygments_lexer": "ipython3",
   "version": "3.7.0"
  }
 },
 "nbformat": 4,
 "nbformat_minor": 2
}
